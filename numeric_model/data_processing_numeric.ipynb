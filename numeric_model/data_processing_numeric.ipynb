{
  "nbformat": 4,
  "nbformat_minor": 0,
  "metadata": {
    "colab": {
      "provenance": []
    },
    "kernelspec": {
      "name": "python3",
      "display_name": "Python 3"
    },
    "language_info": {
      "name": "python"
    }
  },
  "cells": [
    {
      "cell_type": "code",
      "source": [
        "from google.colab import drive\n",
        "drive.mount('/content/drive')"
      ],
      "metadata": {
        "id": "60exfx51qeIK"
      },
      "execution_count": null,
      "outputs": []
    },
    {
      "cell_type": "code",
      "source": [
        "import pandas as pd"
      ],
      "metadata": {
        "id": "_hgbM6ZRxaSF"
      },
      "execution_count": null,
      "outputs": []
    },
    {
      "cell_type": "code",
      "source": [
        "crypto_price_base_path = \"/content/drive/MyDrive/CS526_DS_Group/Numeric Model/datasets/crypto prices/\"\n",
        "crypto_options = [\"BTC\", \"ETH\", \"XRP\", 'USDT']\n",
        "def get_crypto_price_path(option, time_range=\"all\"):\n",
        "    if option in crypto_options:\n",
        "        if time_range == \"all\":\n",
        "            return crypto_price_base_path + option + \".csv\"\n",
        "        else:\n",
        "            return crypto_price_base_path + option + f\"_{time_range}.csv\"\n",
        "    else:\n",
        "        raise Exception(\"Invalid crypto options\")"
      ],
      "metadata": {
        "id": "Nt22zwv0eHke"
      },
      "execution_count": null,
      "outputs": []
    },
    {
      "cell_type": "code",
      "execution_count": null,
      "metadata": {
        "id": "P-Eu_ruHd_Is",
        "colab": {
          "base_uri": "https://localhost:8080/"
        },
        "outputId": "732110df-a637-40ca-fa5b-e2409b0f906f"
      },
      "outputs": [
        {
          "output_type": "stream",
          "name": "stdout",
          "text": [
            "✅ Combined dataset saved to /content/drive/MyDrive/CS526_DS_Group/Numeric Model/datasets/combined_2022_data.csv\n"
          ]
        }
      ],
      "source": [
        "# --- Load EXOG datasets ---\n",
        "csv_path = \"/content/drive/MyDrive/CS526_DS_Group/Numeric Model/datasets/fear_and_greed_index.csv\"      # replace with your actual CSV file path\n",
        "xlsx_path = \"/content/drive/MyDrive/CS526_DS_Group/Numeric Model/datasets/Twitter_Economic_Uncertainty.xlsx\"  # replace with your actual XLSX file path\n",
        "\n",
        "fng_df = pd.read_csv(csv_path)\n",
        "metrics_df = pd.read_excel(xlsx_path)\n",
        "\n",
        "# --- Convert date columns to datetime ---\n",
        "fng_df['date'] = pd.to_datetime(fng_df['date'])\n",
        "metrics_df['date'] = pd.to_datetime(metrics_df['date'])\n",
        "\n",
        "# --- Filter for date range 2022-01-01 to 2022-12-31 ---\n",
        "start_date = \"2022-01-01\"\n",
        "end_date = \"2022-12-31\"\n",
        "\n",
        "# fng_filtered = fng_df[(fng_df['date'] >= start_date) & (fng_df['date'] <= end_date)]\n",
        "# metrics_filtered = metrics_df[(metrics_df['date'] >= start_date) & (metrics_df['date'] <= end_date)]\n",
        "\n",
        "# min-max scale\n",
        "fng_filtered = fng_df[(fng_df['date'] >= start_date) & (fng_df['date'] <= end_date)]\n",
        "metrics_filtered = metrics_df[(metrics_df['date'] >= start_date) & (metrics_df['date'] <= end_date)]\n",
        "\n",
        "# --- Merge datasets on 'date' ---\n",
        "combined_df = pd.merge(fng_filtered, metrics_filtered, on='date', how='inner')\n",
        "\n",
        "# --- Sort by date (ascending) ---\n",
        "combined_df = combined_df.sort_values(by='date', ascending=True)\n",
        "combined_df['TEU-ENG'] = combined_df['TEU-ENG'] / 1600\n",
        "combined_df['fng_value'] = combined_df['fng_value'] / 100\n",
        "\n",
        "# --- Save to CSV ---\n",
        "output_path = \"/content/drive/MyDrive/CS526_DS_Group/Numeric Model/datasets/combined_2022_data.csv\"\n",
        "combined_df.to_csv(output_path, index=False)\n",
        "\n",
        "print(f\"✅ Combined dataset saved to {output_path}\")\n"
      ]
    },
    {
      "cell_type": "code",
      "source": [
        "# for option in crypto_options:\n",
        "for option in ['USDT']:\n",
        "    # --- Load the CSV ---\n",
        "    csv_path = get_crypto_price_path(option)   # replace with your actual filename\n",
        "    df = pd.read_csv(csv_path)\n",
        "\n",
        "    # --- Convert date column to datetime ---\n",
        "    df['date'] = pd.to_datetime(df['date'])\n",
        "\n",
        "    # --- Filter for year 2022 ---\n",
        "    start_date = \"2022-01-01\"\n",
        "    end_date = \"2022-12-31\"\n",
        "\n",
        "    # --- Filter for year 2023 ---\n",
        "    # start_date = \"2023-01-01\"\n",
        "    # end_date = \"2023-12-31\"\n",
        "\n",
        "    # --- Sort by date ascending ---\n",
        "    filtered_df = df[(df['date'] >= start_date) & (df['date'] <= end_date)]\n",
        "    filtered_df = filtered_df.sort_values(by='date', ascending=True).reset_index(drop=True)\n",
        "\n",
        "    # --- Save to CSV ---\n",
        "    output_path = get_crypto_price_path(option, \"2022\")\n",
        "    filtered_df.to_csv(output_path, index=False)\n",
        "\n",
        "    print(f\"✅ 2022 data saved to {output_path}, sorted by date ascendingly.\")\n",
        "    # print(f\"✅ 2023 data saved to {output_path}, sorted by date ascendingly.\")\n"
      ],
      "metadata": {
        "id": "lj1BhJAreDZq",
        "colab": {
          "base_uri": "https://localhost:8080/"
        },
        "outputId": "2082e3f8-f5ca-4649-c9e3-4a7d12cfa655"
      },
      "execution_count": null,
      "outputs": [
        {
          "output_type": "stream",
          "name": "stdout",
          "text": [
            "✅ 2022 data saved to /content/drive/MyDrive/CS526_DS_Group/Numeric Model/datasets/crypto prices/USDT_2022.csv, sorted by date ascendingly.\n"
          ]
        }
      ]
    },
    {
      "cell_type": "code",
      "source": [],
      "metadata": {
        "id": "nsCCj9LDxXYT"
      },
      "execution_count": null,
      "outputs": []
    }
  ]
}